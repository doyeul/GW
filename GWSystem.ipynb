{
 "cells": [
  {
   "cell_type": "code",
   "execution_count": null,
   "id": "c7bcb13e-0af3-45b3-9485-034fc3befb80",
   "metadata": {},
   "outputs": [],
   "source": [
    "\"\"\"\n",
    "m1=m2=35solarmass\n",
    "a=350km\n",
    "fgw=150Hz\n",
    "T=13ms\n",
    "->geometrized + solarmass unit ->G=c=1 -> T,a is written in solarmass\n",
    "\"\"\""
   ]
  },
  {
   "cell_type": "code",
   "execution_count": 35,
   "id": "c35bdabf-1e7b-4778-a6d5-01733871942b",
   "metadata": {},
   "outputs": [],
   "source": [
    "%reset -f\n",
    "import numpy as np\n",
    "class GWSystem:\n",
    "    \"\"\"\n",
    "    Made by doyeul from Korea & Eawha university\n",
    "    Please provide only one of the parameters: a,fgw,Tkep, using ***km,Hz,or ms*** respectively\n",
    "    \n",
    "    This code assumes that m1= m2 = 35 solar mass\n",
    "    Inside the code, quantities are in geometrized units (G = c = 1), with mass measured in solar masses.\n",
    "    You don't need to worry about it! Easy to use!\n",
    "    \"\"\"\n",
    "    def __init__(self,*,a=None,f=None,T=None):   #*는 순서입력x, 키워드 입력만 받음. None 은 데이터 없음. fgw, Tkep\n",
    "        inputs = [a,f,T]\n",
    "        count = sum(x is not None for x in inputs)   \n",
    "        if count!=1:\n",
    "            raise ValueError(\"please insert only one input among a,f,T\")\n",
    "        #define value\n",
    "        m1=35\n",
    "        m2=35\n",
    "        M=m1+m2\n",
    "        G=1\n",
    "        c=1    \n",
    "        G_c2=1.477  # G_c2=1.477km/M0\n",
    "        G_c3=4.926e-3 # G_c3=4.926e-3ms/M0\n",
    "        if a is not None:\n",
    "            a_geo=a/G_c2\n",
    "            T_geo=2*np.pi*np.sqrt(a_geo**3/G/M)\n",
    "            f_geo=2/T_geo\n",
    "        elif f is not None:\n",
    "            f_geo=f*G_c3*1e-3   \n",
    "            T_geo=2/f_geo    \n",
    "            a_geo=np.cbrt(G*M*T_geo**2/4/np.pi**2)\n",
    "        elif T is not None:\n",
    "            T_geo=T/G_c3\n",
    "            f_geo=2/T_geo\n",
    "            a_geo=np.cbrt(G*M*T_geo**2/4/np.pi**2)\n",
    "        self.a = a_geo * G_c2   #km\n",
    "        self.f = f_geo/G_c3 /1e-3  #Hz   \n",
    "        self.T=T_geo*G_c3    #ms"
   ]
  },
  {
   "cell_type": "code",
   "execution_count": 36,
   "id": "26094630-0ff5-4223-b407-f9ce0d2d21d2",
   "metadata": {},
   "outputs": [
    {
     "name": "stdout",
     "output_type": "stream",
     "text": [
      "\n",
      "Made by doyeul from Korea & Eawha university\n",
      "Please provide only one of the parameters: a,fgw,Tkep, using ***km,Hz,or ms*** respectively\n",
      "\n",
      "This code assumes that m1= m2 = 35 solar mass\n",
      "Inside the code, quantities are in geometrized units (G = c = 1), with mass measured in solar masses.\n",
      "You don't need to worry about it! Easy to use!\n",
      "\n"
     ]
    }
   ],
   "source": [
    "print(GWSystem.__doc__)"
   ]
  },
  {
   "cell_type": "code",
   "execution_count": 37,
   "id": "82099883-878c-4c48-9a1f-a42e005980eb",
   "metadata": {},
   "outputs": [
    {
     "name": "stdout",
     "output_type": "stream",
     "text": [
      "350.0 148.20860387890733 13.494493218720853\n"
     ]
    }
   ],
   "source": [
    "\n",
    "s=GWSystem(a=350)\n",
    "print(s.a,s.f,s.T)"
   ]
  },
  {
   "cell_type": "code",
   "execution_count": 38,
   "id": "0487566a-1681-4c34-ac58-824b41ca184f",
   "metadata": {},
   "outputs": [
    {
     "name": "stdout",
     "output_type": "stream",
     "text": [
      "350.3288027790211 148.0 13.513513513513514\n"
     ]
    }
   ],
   "source": [
    "s=GWSystem(f=148)\n",
    "print(s.a,s.f,s.T)"
   ]
  },
  {
   "cell_type": "code",
   "execution_count": 39,
   "id": "6058f3a8-42fe-4faa-95fb-45912bc09f9a",
   "metadata": {},
   "outputs": [
    {
     "name": "stdout",
     "output_type": "stream",
     "text": [
      "350.0952113011022 148.14814814814812 13.5\n"
     ]
    }
   ],
   "source": [
    "s=GWSystem(T=13.5)\n",
    "print(s.a,s.f,s.T)"
   ]
  }
 ],
 "metadata": {
  "kernelspec": {
   "display_name": "Python (mark0110)",
   "language": "python",
   "name": "mark0110"
  },
  "language_info": {
   "codemirror_mode": {
    "name": "ipython",
    "version": 3
   },
   "file_extension": ".py",
   "mimetype": "text/x-python",
   "name": "python",
   "nbconvert_exporter": "python",
   "pygments_lexer": "ipython3",
   "version": "3.13.1"
  }
 },
 "nbformat": 4,
 "nbformat_minor": 5
}
